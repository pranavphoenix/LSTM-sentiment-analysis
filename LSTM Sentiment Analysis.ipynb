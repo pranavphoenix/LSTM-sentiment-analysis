{
  "nbformat": 4,
  "nbformat_minor": 0,
  "metadata": {
    "colab": {
      "name": "lstm assignment",
      "provenance": [],
      "collapsed_sections": []
    },
    "kernelspec": {
      "name": "python3",
      "display_name": "Python 3"
    },
    "accelerator": "GPU"
  },
  "cells": [
    {
      "cell_type": "code",
      "metadata": {
        "id": "46d6FBszCGG8",
        "colab": {
          "base_uri": "https://localhost:8080/"
        },
        "outputId": "ef062005-6037-4cfa-b41f-2a379825a1de"
      },
      "source": [
        "!wget http://nlp.stanford.edu/data/glove.6B.zip\n",
        "!unzip glove.6B.zip"
      ],
      "execution_count": null,
      "outputs": [
        {
          "output_type": "stream",
          "text": [
            "--2020-11-16 11:08:07--  http://nlp.stanford.edu/data/glove.6B.zip\n",
            "Resolving nlp.stanford.edu (nlp.stanford.edu)... 171.64.67.140\n",
            "Connecting to nlp.stanford.edu (nlp.stanford.edu)|171.64.67.140|:80... connected.\n",
            "HTTP request sent, awaiting response... 302 Found\n",
            "Location: https://nlp.stanford.edu/data/glove.6B.zip [following]\n",
            "--2020-11-16 11:08:07--  https://nlp.stanford.edu/data/glove.6B.zip\n",
            "Connecting to nlp.stanford.edu (nlp.stanford.edu)|171.64.67.140|:443... connected.\n",
            "HTTP request sent, awaiting response... 301 Moved Permanently\n",
            "Location: http://downloads.cs.stanford.edu/nlp/data/glove.6B.zip [following]\n",
            "--2020-11-16 11:08:07--  http://downloads.cs.stanford.edu/nlp/data/glove.6B.zip\n",
            "Resolving downloads.cs.stanford.edu (downloads.cs.stanford.edu)... 171.64.64.22\n",
            "Connecting to downloads.cs.stanford.edu (downloads.cs.stanford.edu)|171.64.64.22|:80... connected.\n",
            "HTTP request sent, awaiting response... 200 OK\n",
            "Length: 862182613 (822M) [application/zip]\n",
            "Saving to: ‘glove.6B.zip’\n",
            "\n",
            "glove.6B.zip        100%[===================>] 822.24M  2.21MB/s    in 6m 28s  \n",
            "\n",
            "2020-11-16 11:14:35 (2.12 MB/s) - ‘glove.6B.zip’ saved [862182613/862182613]\n",
            "\n",
            "Archive:  glove.6B.zip\n",
            "  inflating: glove.6B.50d.txt        \n",
            "  inflating: glove.6B.100d.txt       \n",
            "  inflating: glove.6B.200d.txt       \n",
            "  inflating: glove.6B.300d.txt       \n"
          ],
          "name": "stdout"
        }
      ]
    },
    {
      "cell_type": "code",
      "metadata": {
        "id": "vbnwkbgAC76Z",
        "colab": {
          "base_uri": "https://localhost:8080/"
        },
        "outputId": "04a18625-c0b7-4733-8710-26b9a74a6c4a"
      },
      "source": [
        "#Use the 300 dimensional GLove Word Embeddings\n",
        "import numpy as np\n",
        "import os\n",
        "\n",
        "glove_dir = './'\n",
        "\n",
        "embeddings_index = {} #initialize dictionary\n",
        "f = open(os.path.join(glove_dir, 'glove.6B.300d.txt'))\n",
        "for line in f:\n",
        "    values = line.split()\n",
        "    word = values[0]\n",
        "    coefs = np.asarray(values[1:], dtype='float32')\n",
        "    embeddings_index[word] = coefs\n",
        "f.close()\n",
        "\n",
        "print('Found %s word vectors.' % len(embeddings_index))"
      ],
      "execution_count": null,
      "outputs": [
        {
          "output_type": "stream",
          "text": [
            "Found 400000 word vectors.\n"
          ],
          "name": "stdout"
        }
      ]
    },
    {
      "cell_type": "code",
      "metadata": {
        "id": "FKp1AuIlDuzy"
      },
      "source": [
        "from gensim.test.utils import datapath, get_tmpfile         #code from https://web.stanford.edu/class/archive/cs/cs224n/cs224n.1194/materials/Gensim%20word%20vector%20visualization.html\n",
        "from gensim.models import KeyedVectors                      #changed to 300 and 50 dimenstional encodings\n",
        "from gensim.scripts.glove2word2vec import glove2word2vec\n",
        "\n",
        "glove_file = 'glove.6B.50d.txt'\n",
        "word2vec_glove_file = get_tmpfile(\"glove.6B.50d.word2vec.txt\")\n",
        "glove2word2vec(glove_file, word2vec_glove_file)\n",
        "\n",
        "model = KeyedVectors.load_word2vec_format(word2vec_glove_file)"
      ],
      "execution_count": null,
      "outputs": []
    },
    {
      "cell_type": "code",
      "metadata": {
        "id": "STDSenGVHA9E"
      },
      "source": [
        "def analogy(x1, x2, x3):  #format x1 - x2 + x3\n",
        "    result = model.most_similar(positive=[x1, x3], negative=[x2])\n",
        "    return result[0][0]"
      ],
      "execution_count": null,
      "outputs": []
    },
    {
      "cell_type": "code",
      "metadata": {
        "id": "zRECvgKWIfv8"
      },
      "source": [
        "def difference_of_l2norm(x1,x2,x3,word):\n",
        "  l2word = np.linalg.norm(embeddings_index[word])  \n",
        "  l2combo = np.linalg.norm(embeddings_index[x1] - embeddings_index[x2] + embeddings_index[x3])\n",
        "  difference = abs(l2word - l2combo)\n",
        "  return l2combo, l2word, difference\n"
      ],
      "execution_count": null,
      "outputs": []
    },
    {
      "cell_type": "code",
      "metadata": {
        "id": "llvkJQGbHDji",
        "colab": {
          "base_uri": "https://localhost:8080/",
          "height": 89
        },
        "outputId": "0f8e3f05-2073-4b17-baaa-4202a73b07ca"
      },
      "source": [
        "analogy('prince', 'boy', 'girl')"
      ],
      "execution_count": null,
      "outputs": [
        {
          "output_type": "stream",
          "text": [
            "/usr/local/lib/python3.6/dist-packages/gensim/matutils.py:737: FutureWarning: Conversion of the second argument of issubdtype from `int` to `np.signedinteger` is deprecated. In future, it will be treated as `np.int64 == np.dtype(int).type`.\n",
            "  if np.issubdtype(vec.dtype, np.int):\n"
          ],
          "name": "stderr"
        },
        {
          "output_type": "execute_result",
          "data": {
            "application/vnd.google.colaboratory.intrinsic+json": {
              "type": "string"
            },
            "text/plain": [
              "'princess'"
            ]
          },
          "metadata": {
            "tags": []
          },
          "execution_count": 6
        }
      ]
    },
    {
      "cell_type": "code",
      "metadata": {
        "id": "6XWOIrJ6LGHp",
        "colab": {
          "base_uri": "https://localhost:8080/"
        },
        "outputId": "514998e8-901a-4b78-bb54-cc148baf988f"
      },
      "source": [
        "difference_of_l2norm('prince', 'boy', 'girl','princess')"
      ],
      "execution_count": null,
      "outputs": [
        {
          "output_type": "execute_result",
          "data": {
            "text/plain": [
              "(7.830418, 7.2799983, 0.5504198)"
            ]
          },
          "metadata": {
            "tags": []
          },
          "execution_count": 7
        }
      ]
    },
    {
      "cell_type": "code",
      "metadata": {
        "id": "HLdXurwFIG1-",
        "colab": {
          "base_uri": "https://localhost:8080/",
          "height": 89
        },
        "outputId": "cebde9d3-4705-4db8-b2fa-0fafbd810ba0"
      },
      "source": [
        "analogy('king','man','woman')"
      ],
      "execution_count": null,
      "outputs": [
        {
          "output_type": "stream",
          "text": [
            "/usr/local/lib/python3.6/dist-packages/gensim/matutils.py:737: FutureWarning: Conversion of the second argument of issubdtype from `int` to `np.signedinteger` is deprecated. In future, it will be treated as `np.int64 == np.dtype(int).type`.\n",
            "  if np.issubdtype(vec.dtype, np.int):\n"
          ],
          "name": "stderr"
        },
        {
          "output_type": "execute_result",
          "data": {
            "application/vnd.google.colaboratory.intrinsic+json": {
              "type": "string"
            },
            "text/plain": [
              "'queen'"
            ]
          },
          "metadata": {
            "tags": []
          },
          "execution_count": 8
        }
      ]
    },
    {
      "cell_type": "code",
      "metadata": {
        "id": "HDq5d9lkIap9",
        "colab": {
          "base_uri": "https://localhost:8080/"
        },
        "outputId": "e81fabc7-0ed7-45cf-e625-ae2f8540fb1a"
      },
      "source": [
        "difference_of_l2norm('king','man','woman','queen')"
      ],
      "execution_count": null,
      "outputs": [
        {
          "output_type": "execute_result",
          "data": {
            "text/plain": [
              "(7.9847693, 6.931188, 1.0535812)"
            ]
          },
          "metadata": {
            "tags": []
          },
          "execution_count": 9
        }
      ]
    },
    {
      "cell_type": "code",
      "metadata": {
        "id": "iHMvx9TwMKay",
        "colab": {
          "base_uri": "https://localhost:8080/",
          "height": 89
        },
        "outputId": "937ea4bf-aabf-4477-e872-1905446e1779"
      },
      "source": [
        "analogy('chinese','china','india')"
      ],
      "execution_count": null,
      "outputs": [
        {
          "output_type": "stream",
          "text": [
            "/usr/local/lib/python3.6/dist-packages/gensim/matutils.py:737: FutureWarning: Conversion of the second argument of issubdtype from `int` to `np.signedinteger` is deprecated. In future, it will be treated as `np.int64 == np.dtype(int).type`.\n",
            "  if np.issubdtype(vec.dtype, np.int):\n"
          ],
          "name": "stderr"
        },
        {
          "output_type": "execute_result",
          "data": {
            "application/vnd.google.colaboratory.intrinsic+json": {
              "type": "string"
            },
            "text/plain": [
              "'indian'"
            ]
          },
          "metadata": {
            "tags": []
          },
          "execution_count": 10
        }
      ]
    },
    {
      "cell_type": "code",
      "metadata": {
        "id": "rync0L1lMmtM",
        "colab": {
          "base_uri": "https://localhost:8080/"
        },
        "outputId": "870b9cf9-274b-456b-9d74-2793bebabf76"
      },
      "source": [
        "difference_of_l2norm('chinese','china','india','indian')"
      ],
      "execution_count": null,
      "outputs": [
        {
          "output_type": "execute_result",
          "data": {
            "text/plain": [
              "(7.833182, 7.292244, 0.5409379)"
            ]
          },
          "metadata": {
            "tags": []
          },
          "execution_count": 11
        }
      ]
    },
    {
      "cell_type": "code",
      "metadata": {
        "id": "x6ivXAStOa5O",
        "colab": {
          "base_uri": "https://localhost:8080/",
          "height": 89
        },
        "outputId": "b47bf4b6-e367-4a5e-bed4-a49b004b3265"
      },
      "source": [
        "analogy('larger','large','small')"
      ],
      "execution_count": null,
      "outputs": [
        {
          "output_type": "stream",
          "text": [
            "/usr/local/lib/python3.6/dist-packages/gensim/matutils.py:737: FutureWarning: Conversion of the second argument of issubdtype from `int` to `np.signedinteger` is deprecated. In future, it will be treated as `np.int64 == np.dtype(int).type`.\n",
            "  if np.issubdtype(vec.dtype, np.int):\n"
          ],
          "name": "stderr"
        },
        {
          "output_type": "execute_result",
          "data": {
            "application/vnd.google.colaboratory.intrinsic+json": {
              "type": "string"
            },
            "text/plain": [
              "'smaller'"
            ]
          },
          "metadata": {
            "tags": []
          },
          "execution_count": 12
        }
      ]
    },
    {
      "cell_type": "code",
      "metadata": {
        "id": "wghdjptEOoRG",
        "colab": {
          "base_uri": "https://localhost:8080/"
        },
        "outputId": "c83b3d41-7fb7-484c-c8a0-9c942be00216"
      },
      "source": [
        "difference_of_l2norm('larger','large','small','smaller')"
      ],
      "execution_count": null,
      "outputs": [
        {
          "output_type": "execute_result",
          "data": {
            "text/plain": [
              "(6.40444, 5.9111733, 0.49326658)"
            ]
          },
          "metadata": {
            "tags": []
          },
          "execution_count": 13
        }
      ]
    },
    {
      "cell_type": "code",
      "metadata": {
        "id": "VPm90kwJVFJR"
      },
      "source": [
        "from keras import backend as K\n",
        "from keras.layers import Dense, LSTM, InputLayer, Bidirectional, TimeDistributed\n",
        "from keras.layers import Embedding, Activation, Dropout\n",
        "from keras.models import Sequential\n",
        "from keras.optimizers import Adam\n",
        "from keras.preprocessing.sequence import pad_sequences\n",
        "from keras.datasets import imdb\n",
        "import numpy as np"
      ],
      "execution_count": null,
      "outputs": []
    },
    {
      "cell_type": "code",
      "metadata": {
        "id": "GbNRPCCjwUNE"
      },
      "source": [
        "(X_train, y_train), (X_test, y_test) = imdb.load_data(path=\"imdb.npz\",\n",
        "                                                      num_words=40000,\n",
        "                                                      skip_top=0,\n",
        "                                                      maxlen=500,\n",
        "                                                      seed=113,\n",
        "                                                      start_char=1,\n",
        "                                                      oov_char=2,\n",
        "                                                      index_from=3)"
      ],
      "execution_count": null,
      "outputs": []
    },
    {
      "cell_type": "code",
      "metadata": {
        "id": "G0JGArBNMVpR"
      },
      "source": [
        "X_train =list(X_train)\n",
        "y_train = list(y_train)"
      ],
      "execution_count": null,
      "outputs": []
    },
    {
      "cell_type": "code",
      "metadata": {
        "id": "ISiCgWh5K_cX"
      },
      "source": [
        "for sent in X_test[:20000]:\n",
        "  X_train.append(sent)\n",
        "for i in y_test[:20000]:\n",
        "  y_train.append(i)"
      ],
      "execution_count": null,
      "outputs": []
    },
    {
      "cell_type": "code",
      "metadata": {
        "id": "aoZdK0VAOfih"
      },
      "source": [
        "X_train = np.array(X_train)\n",
        "y_train = np.array(y_train)"
      ],
      "execution_count": null,
      "outputs": []
    },
    {
      "cell_type": "code",
      "metadata": {
        "id": "Lbo1Q5dZN94O",
        "colab": {
          "base_uri": "https://localhost:8080/"
        },
        "outputId": "c6e5ae33-0856-40eb-b429-6ed90cff4caf"
      },
      "source": [
        "len(X_train)"
      ],
      "execution_count": null,
      "outputs": [
        {
          "output_type": "execute_result",
          "data": {
            "text/plain": [
              "42882"
            ]
          },
          "metadata": {
            "tags": []
          },
          "execution_count": 46
        }
      ]
    },
    {
      "cell_type": "code",
      "metadata": {
        "id": "KI2WaUidzuWd"
      },
      "source": [
        "X_test = X_test[20000:]\n",
        "y_test = y_test[20000:]"
      ],
      "execution_count": null,
      "outputs": []
    },
    {
      "cell_type": "code",
      "metadata": {
        "id": "pbletoh2z6M1",
        "colab": {
          "base_uri": "https://localhost:8080/"
        },
        "outputId": "0f88b8d3-4cd0-415d-a083-ca7944e2a014"
      },
      "source": [
        "len(X_test)"
      ],
      "execution_count": null,
      "outputs": [
        {
          "output_type": "execute_result",
          "data": {
            "text/plain": [
              "3065"
            ]
          },
          "metadata": {
            "tags": []
          },
          "execution_count": 48
        }
      ]
    },
    {
      "cell_type": "code",
      "metadata": {
        "id": "DDpQ8MuAxJ0c"
      },
      "source": [
        "max_length = 500\n",
        "X_train = pad_sequences(X_train, maxlen=max_length)\n",
        "X_test = pad_sequences(X_test, maxlen=max_length)"
      ],
      "execution_count": null,
      "outputs": []
    },
    {
      "cell_type": "code",
      "metadata": {
        "id": "1Fq0uh6kzucq",
        "colab": {
          "base_uri": "https://localhost:8080/"
        },
        "outputId": "c8ecbe83-83ca-474a-fd65-50f241d474dc"
      },
      "source": [
        "embedding_dimension = 300\n",
        "model = Sequential() # without GloVe embeddings\n",
        "model.add(InputLayer(input_shape=(max_length, )))\n",
        "model.add(Embedding(input_dim=40000, output_dim=embedding_dimension, input_length=max_length))\n",
        "model.add(LSTM(16))\n",
        "model.add(Dense(1, activation='sigmoid'))\n",
        "model.summary()\n",
        "model.compile(loss='binary_crossentropy',\n",
        "              optimizer='adam',\n",
        "              metrics=['accuracy'])"
      ],
      "execution_count": null,
      "outputs": [
        {
          "output_type": "stream",
          "text": [
            "Model: \"sequential_8\"\n",
            "_________________________________________________________________\n",
            "Layer (type)                 Output Shape              Param #   \n",
            "=================================================================\n",
            "embedding_8 (Embedding)      (None, 500, 300)          12000000  \n",
            "_________________________________________________________________\n",
            "lstm_8 (LSTM)                (None, 16)                20288     \n",
            "_________________________________________________________________\n",
            "dense_8 (Dense)              (None, 1)                 17        \n",
            "=================================================================\n",
            "Total params: 12,020,305\n",
            "Trainable params: 12,020,305\n",
            "Non-trainable params: 0\n",
            "_________________________________________________________________\n"
          ],
          "name": "stdout"
        }
      ]
    },
    {
      "cell_type": "code",
      "metadata": {
        "id": "X19ZoZdAX3gP"
      },
      "source": [
        "word2index = imdb.get_word_index()\n",
        "    \n",
        "word2index = {k:v+3 for k,v in word2index.items()}\n",
        "word2index[\"<PAD>\"] = 0\n",
        "word2index[\"<START>\"] = 1\n",
        "word2index[\"<UNK>\"] = 2\n",
        "\n"
      ],
      "execution_count": null,
      "outputs": []
    },
    {
      "cell_type": "code",
      "metadata": {
        "id": "OufmLl8CGTKm"
      },
      "source": [
        "embedding_dim = 300\n",
        "\n",
        "embedding_matrix = np.zeros((len(word2index), embedding_dim))\n",
        "for word, i in word2index.items():\n",
        "  embedding_vector = embeddings_index.get(word)\n",
        "  if i < len(word2index):\n",
        "    if embedding_vector is not None:\n",
        "      embedding_matrix[i] = embedding_vector"
      ],
      "execution_count": null,
      "outputs": []
    },
    {
      "cell_type": "code",
      "metadata": {
        "id": "LGWaHY_WZ9wg",
        "colab": {
          "base_uri": "https://localhost:8080/"
        },
        "outputId": "b063bcb3-966e-46f1-a645-37f409960031"
      },
      "source": [
        "model = Sequential() #with GloVe embeddings\n",
        "model.add(InputLayer(input_shape=(max_length, )))\n",
        "model.add(Embedding(len(word2index), 300, weights=[embedding_matrix],input_length = max_length,trainable=False))\n",
        "model.add(LSTM(16))\n",
        "model.add(Dense(1, activation='sigmoid'))\n",
        "model.summary()\n",
        "model.compile(loss='binary_crossentropy',\n",
        "              optimizer='adam',\n",
        "              metrics=['accuracy'])"
      ],
      "execution_count": null,
      "outputs": [
        {
          "output_type": "stream",
          "text": [
            "Model: \"sequential_11\"\n",
            "_________________________________________________________________\n",
            "Layer (type)                 Output Shape              Param #   \n",
            "=================================================================\n",
            "embedding_11 (Embedding)     (None, 500, 300)          26576100  \n",
            "_________________________________________________________________\n",
            "lstm_12 (LSTM)               (None, 16)                20288     \n",
            "_________________________________________________________________\n",
            "dense_10 (Dense)             (None, 1)                 17        \n",
            "=================================================================\n",
            "Total params: 26,596,405\n",
            "Trainable params: 20,305\n",
            "Non-trainable params: 26,576,100\n",
            "_________________________________________________________________\n"
          ],
          "name": "stdout"
        }
      ]
    },
    {
      "cell_type": "code",
      "metadata": {
        "id": "LqoU5uN4kUIT",
        "colab": {
          "base_uri": "https://localhost:8080/"
        },
        "outputId": "9d1ace98-9ba1-4ccb-f644-dfab268ee965"
      },
      "source": [
        "model = Sequential() #BILSTM\n",
        "model.add(InputLayer(input_shape=(max_length, )))\n",
        "model.add(Embedding(len(word2index), 300, weights=[embedding_matrix],input_length = max_length,trainable=False))\n",
        "model.add(Bidirectional(LSTM(16, return_sequences=False)))\n",
        "model.add(Dense(1, activation='sigmoid'))\n",
        "model.summary()\n",
        "model.compile(loss='binary_crossentropy',\n",
        "              optimizer='adam',\n",
        "              metrics=['accuracy'])"
      ],
      "execution_count": null,
      "outputs": [
        {
          "output_type": "stream",
          "text": [
            "Model: \"sequential_9\"\n",
            "_________________________________________________________________\n",
            "Layer (type)                 Output Shape              Param #   \n",
            "=================================================================\n",
            "embedding_9 (Embedding)      (None, 500, 300)          26576100  \n",
            "_________________________________________________________________\n",
            "bidirectional (Bidirectional (None, 32)                40576     \n",
            "_________________________________________________________________\n",
            "dense_9 (Dense)              (None, 1)                 33        \n",
            "=================================================================\n",
            "Total params: 26,616,709\n",
            "Trainable params: 40,609\n",
            "Non-trainable params: 26,576,100\n",
            "_________________________________________________________________\n"
          ],
          "name": "stdout"
        }
      ]
    },
    {
      "cell_type": "code",
      "metadata": {
        "id": "WSg5rSaq109E",
        "colab": {
          "base_uri": "https://localhost:8080/"
        },
        "outputId": "ba7a1b46-4644-40a9-92f9-ff1e394864f0"
      },
      "source": [
        "history = model.fit(X_train, y_train, batch_size=128,\n",
        "                          epochs=15, verbose=2,\n",
        "                          validation_split=0.2)"
      ],
      "execution_count": null,
      "outputs": [
        {
          "output_type": "stream",
          "text": [
            "Epoch 1/15\n",
            "269/269 - 17s - loss: 0.2184 - accuracy: 0.9141 - val_loss: 0.2555 - val_accuracy: 0.8947\n",
            "Epoch 2/15\n",
            "269/269 - 17s - loss: 0.2127 - accuracy: 0.9146 - val_loss: 0.2562 - val_accuracy: 0.8968\n",
            "Epoch 3/15\n",
            "269/269 - 17s - loss: 0.2070 - accuracy: 0.9198 - val_loss: 0.2570 - val_accuracy: 0.8912\n",
            "Epoch 4/15\n",
            "269/269 - 17s - loss: 0.1997 - accuracy: 0.9221 - val_loss: 0.2609 - val_accuracy: 0.8917\n",
            "Epoch 5/15\n",
            "269/269 - 17s - loss: 0.1931 - accuracy: 0.9252 - val_loss: 0.2534 - val_accuracy: 0.8965\n",
            "Epoch 6/15\n",
            "269/269 - 17s - loss: 0.1856 - accuracy: 0.9287 - val_loss: 0.2614 - val_accuracy: 0.8968\n",
            "Epoch 7/15\n",
            "269/269 - 17s - loss: 0.1798 - accuracy: 0.9315 - val_loss: 0.2516 - val_accuracy: 0.8971\n",
            "Epoch 8/15\n",
            "269/269 - 17s - loss: 0.1734 - accuracy: 0.9346 - val_loss: 0.2560 - val_accuracy: 0.8953\n",
            "Epoch 9/15\n",
            "269/269 - 17s - loss: 0.1702 - accuracy: 0.9340 - val_loss: 0.2522 - val_accuracy: 0.8966\n",
            "Epoch 10/15\n",
            "269/269 - 17s - loss: 0.1662 - accuracy: 0.9365 - val_loss: 0.2639 - val_accuracy: 0.8933\n",
            "Epoch 11/15\n",
            "269/269 - 17s - loss: 0.1584 - accuracy: 0.9416 - val_loss: 0.2863 - val_accuracy: 0.8901\n",
            "Epoch 12/15\n",
            "269/269 - 17s - loss: 0.1551 - accuracy: 0.9416 - val_loss: 0.2656 - val_accuracy: 0.8889\n",
            "Epoch 13/15\n",
            "269/269 - 17s - loss: 0.1526 - accuracy: 0.9431 - val_loss: 0.2803 - val_accuracy: 0.8937\n",
            "Epoch 14/15\n",
            "269/269 - 17s - loss: 0.1496 - accuracy: 0.9441 - val_loss: 0.2846 - val_accuracy: 0.8924\n",
            "Epoch 15/15\n",
            "269/269 - 17s - loss: 0.1371 - accuracy: 0.9507 - val_loss: 0.2761 - val_accuracy: 0.8971\n"
          ],
          "name": "stdout"
        }
      ]
    },
    {
      "cell_type": "code",
      "metadata": {
        "id": "6Ora8m8u1IZW",
        "colab": {
          "base_uri": "https://localhost:8080/"
        },
        "outputId": "0aa846cd-04fd-436c-faff-e343929ea4d0"
      },
      "source": [
        "model.evaluate(X_test, y_test)"
      ],
      "execution_count": null,
      "outputs": [
        {
          "output_type": "stream",
          "text": [
            "96/96 [==============================] - 2s 22ms/step - loss: 0.2917 - accuracy: 0.8923\n"
          ],
          "name": "stdout"
        },
        {
          "output_type": "execute_result",
          "data": {
            "text/plain": [
              "[0.29165011644363403, 0.8923327922821045]"
            ]
          },
          "metadata": {
            "tags": []
          },
          "execution_count": 92
        }
      ]
    },
    {
      "cell_type": "code",
      "metadata": {
        "id": "6BmSvqPt8EBt"
      },
      "source": [
        "import matplotlib.pyplot as plt\n",
        "def display_plot(history,train,validation):\n",
        "    plt.plot(history.history[train])\n",
        "    plt.plot(history.history[validation])\n",
        "    plt.title('Train/Validation accuracy Vs No. of epochs')\n",
        "    plt.ylabel(train)\n",
        "    plt.xlabel('Epoch')\n",
        "    plt.legend(['train', 'validation'], loc='upper left')\n",
        "    plt.show()"
      ],
      "execution_count": null,
      "outputs": []
    },
    {
      "cell_type": "code",
      "metadata": {
        "id": "IcfpDSdA8Q_q",
        "colab": {
          "base_uri": "https://localhost:8080/",
          "height": 295
        },
        "outputId": "d1ec2854-b7fb-4028-c359-0d0d71f61931"
      },
      "source": [
        "display_plot(history,'accuracy','val_accuracy')"
      ],
      "execution_count": null,
      "outputs": [
        {
          "output_type": "display_data",
          "data": {
            "image/png": "[encoded data removed]",
            "text/plain": [
              "<Figure size 432x288 with 1 Axes>"
            ]
          },
          "metadata": {
            "tags": [],
            "needs_background": "light"
          }
        }
      ]
    },
    {
      "cell_type": "code",
      "metadata": {
        "id": "Ir98IjyP4XUF"
      },
      "source": [
        "def prediction_engine(text):\n",
        "  my_list = text.split()\n",
        "  input_list = []\n",
        "\n",
        "  for word in my_list:\n",
        "    try:\n",
        "      input_list.append(word2index[word.lower()])\n",
        "    except KeyError:\n",
        "      input_list.append(word2index[\"<UNK>\"])\n",
        "  \n",
        "  input_list.insert(0, 1)\n",
        "  input_list = np.array(input_list)\n",
        "\n",
        "  sample = np.pad(input_list, (max_length - len(input_list),0),'constant')\n",
        "  sample = np.reshape(sample, (1, max_length))\n",
        "\n",
        "  output = model.predict_classes(sample)\n",
        "  \n",
        "  return output[0][0]"
      ],
      "execution_count": null,
      "outputs": []
    },
    {
      "cell_type": "code",
      "metadata": {
        "id": "5BRDUbi44ZFh"
      },
      "source": [
        ""
      ],
      "execution_count": null,
      "outputs": []
    },
    {
      "cell_type": "code",
      "metadata": {
        "id": "IYQ8j-4NGV1c"
      },
      "source": [
        "# movie reviews for 10 movies has been added manually\n",
        "\n",
        "movie_reviews = [['The Prestige', 'Christopher Nolan movie is a smart, intriguing tale of deceit and obsession', 1], \n",
        "                 ['Sixth Sense', 'This is one of the rarest of movie treats, a thinking person thriller that is genuinely haunting. You are lucky if you see a movie that you are still thinking about it hours later', 1],\n",
        "                 ['The Imitation Game', 'Its an impeccable thriller , taut and brilliant , exploring the horrors of war along with the choices that doom mankind for all eternity', 1],\n",
        "                 ['The Man who knew infinity', 'This film centers on Srinivasa Ramanujan, a brilliant mathematician from India, and his unlikely friendship with the Cambridge professor G.H. Hardy. Brown also tries to give the story an emotional touch, to good effect. And in fact, it is this which makes this film both enjoyable and gripping', 1],\n",
        "                 ['The Fault in our Stars', 'If you like feel-good, escapist films, this one is not for you. The Fault in Our Stars is one of the most unpretentious tragic love stories told in a heart-warming manner', 1], \n",
        "                 ['The Greatest Showman', 'The beauty of The Greatest Showman is not limited to its visual appeal – spectacular sets, acrobatic performances, dances and singing ability of its artistes, headlined by the immensely talented Hugh Jackman, who exudes Barnum’s indomitable spirit. What stands the film apart is its relevance to today’s times. It touches upon social issues like class discrimination or aversion towards human abnormalities that continue to plague our society even today.', 1],\n",
        "                 ['The Babysitter','Filling a movie with horror archetypes (narcissistic cheerleader, psychotic jock, sassy comedic foil) is not necessarily a bad thing, but this is a movie that at times feels woefully archaic',0],\n",
        "                 ['Extraction', 'Extraction encourages linguistic diversity but fails to dig deeper into character development', 0],\n",
        "                 ['Man on Fire', r'Two of today\\'s most talented and charismatic screen performers are lost in an over-big, over-loud, over-heated, over-long, over-everything mess of a story about revenge', 0],\n",
        "                  ['The Perks of being a Wallflower','I get why a lot of people love this movie but the book is so much better. It\\'s a good movie, but I think it\\'s role as an adaptation is a little eh. The characters and story are so much more real in the book. It feels numb all the way through and when there\\'s a happy part of the story the author really makes it memorable. In the movie the characters just seem quirky and bigger than life because they listen to David Bowie', 0]]"
      ],
      "execution_count": null,
      "outputs": []
    },
    {
      "cell_type": "code",
      "metadata": {
        "id": "HqufJo2VGXeh",
        "colab": {
          "base_uri": "https://localhost:8080/"
        },
        "outputId": "09df57bf-55b5-4736-a07a-6f981b2a7435"
      },
      "source": [
        "test = []\n",
        "prediction = []\n",
        "predictionMap = {0:'negative', 1:'positive'}\n",
        "for x, y, z in movie_reviews:\n",
        "  pred = prediction_engine(y)\n",
        "  prediction.append(pred)\n",
        "  test.append(z)\n",
        "  print('The review for the movie \\''+x+ '\\' seems ' + predictionMap[pred])"
      ],
      "execution_count": null,
      "outputs": [
        {
          "output_type": "stream",
          "text": [
            "WARNING:tensorflow:From <ipython-input-61-44da0f7c3646>:17: Sequential.predict_classes (from tensorflow.python.keras.engine.sequential) is deprecated and will be removed after 2021-01-01.\n",
            "Instructions for updating:\n",
            "Please use instead:* `np.argmax(model.predict(x), axis=-1)`,   if your model does multi-class classification   (e.g. if it uses a `softmax` last-layer activation).* `(model.predict(x) > 0.5).astype(\"int32\")`,   if your model does binary classification   (e.g. if it uses a `sigmoid` last-layer activation).\n",
            "The review for the movie 'The Prestige' seems positive\n",
            "The review for the movie 'Sixth Sense' seems positive\n",
            "The review for the movie 'The Imitation Game' seems positive\n",
            "The review for the movie 'The Man who knew infinity' seems positive\n",
            "The review for the movie 'The Fault in our Stars' seems positive\n",
            "The review for the movie 'The Greatest Showman' seems positive\n",
            "The review for the movie 'The Babysitter' seems negative\n",
            "The review for the movie 'Extraction' seems negative\n",
            "The review for the movie 'Man on Fire' seems negative\n",
            "The review for the movie 'The Perks of being a Wallflower' seems positive\n"
          ],
          "name": "stdout"
        }
      ]
    },
    {
      "cell_type": "code",
      "metadata": {
        "id": "CCA3cpATGc-d",
        "colab": {
          "base_uri": "https://localhost:8080/"
        },
        "outputId": "39d86cf3-e19e-486b-f0cb-d318372eb6ea"
      },
      "source": [
        "# confusion matrix\n",
        "\n",
        "import matplotlib.pyplot as plt\n",
        "import numpy as np\n",
        "from sklearn import metrics\n",
        "\n",
        "cm = metrics.confusion_matrix(test, prediction)\n",
        "\n",
        "print(cm)"
      ],
      "execution_count": null,
      "outputs": [
        {
          "output_type": "stream",
          "text": [
            "[[3 1]\n",
            " [0 6]]\n"
          ],
          "name": "stdout"
        }
      ]
    },
    {
      "cell_type": "code",
      "metadata": {
        "id": "BylY4OdjGd6U",
        "colab": {
          "base_uri": "https://localhost:8080/"
        },
        "outputId": "6a976af2-6dc9-4e06-d0ed-eb4dc52ef88d"
      },
      "source": [
        "from sklearn.metrics import accuracy_score\n",
        "print('The accuracy on the testing dataset is ' + str(accuracy_score(test,prediction)))\n"
      ],
      "execution_count": null,
      "outputs": [
        {
          "output_type": "stream",
          "text": [
            "The accuracy on the testing dataset is 0.9\n"
          ],
          "name": "stdout"
        }
      ]
    },
    {
      "cell_type": "code",
      "metadata": {
        "id": "4fK5Or_dJKMl",
        "colab": {
          "base_uri": "https://localhost:8080/",
          "height": 295
        },
        "outputId": "e143cb30-dc18-4939-92d9-f0eeb2a7de74"
      },
      "source": [
        "import seaborn as sns\n",
        "\n",
        "\n",
        "sns.heatmap(cm, cmap=\"Blues\")\n",
        "plt.xlabel(\"Predicted labels\")\n",
        "plt.ylabel(\"True labels\")\n",
        "plt.title('HeatMap ')\n",
        "plt.show()"
      ],
      "execution_count": null,
      "outputs": [
        {
          "output_type": "display_data",
          "data": {
            "image/png": "[encoded data removed]",
            "text/plain": [
              "<Figure size 432x288 with 2 Axes>"
            ]
          },
          "metadata": {
            "tags": [],
            "needs_background": "light"
          }
        }
      ]
    }
  ]
}